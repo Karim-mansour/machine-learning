{
  "nbformat": 4,
  "nbformat_minor": 0,
  "metadata": {
    "kernelspec": {
      "display_name": "Python 3",
      "language": "python",
      "name": "python3"
    },
    "language_info": {
      "codemirror_mode": {
        "name": "ipython",
        "version": 3
      },
      "file_extension": ".py",
      "mimetype": "text/x-python",
      "name": "python",
      "nbconvert_exporter": "python",
      "pygments_lexer": "ipython3",
      "version": "3.5.2"
    },
    "colab": {
      "name": "Turi Getting Started with SFrames.ipynb",
      "provenance": []
    }
  },
  "cells": [
    {
      "cell_type": "markdown",
      "metadata": {
        "id": "72BHahDvT5As",
        "colab_type": "text"
      },
      "source": [
        "# Fire up Turi Create\n",
        "\n",
        "We always start with this line before using any part of Turi Create"
      ]
    },
    {
      "cell_type": "code",
      "metadata": {
        "id": "dInyqNExT8uw",
        "colab_type": "code",
        "colab": {}
      },
      "source": [
        "\n",
        "!pip install turicreate\n",
        "from google.colab import drive\n",
        "drive.mount('/content/drive')"
      ],
      "execution_count": 0,
      "outputs": []
    },
    {
      "cell_type": "code",
      "metadata": {
        "id": "kPjT0zrOT5Aw",
        "colab_type": "code",
        "colab": {}
      },
      "source": [
        "import turicreate"
      ],
      "execution_count": 0,
      "outputs": []
    },
    {
      "cell_type": "markdown",
      "metadata": {
        "id": "EFXWRU5oT5BD",
        "colab_type": "text"
      },
      "source": [
        "# Load a tabular data set"
      ]
    },
    {
      "cell_type": "code",
      "metadata": {
        "id": "wnQ0NTcPT5BI",
        "colab_type": "code",
        "colab": {}
      },
      "source": [
        "sf = turicreate.SFrame('people-example.csv')"
      ],
      "execution_count": 0,
      "outputs": []
    },
    {
      "cell_type": "markdown",
      "metadata": {
        "id": "p1WWQeDMT5BX",
        "colab_type": "text"
      },
      "source": [
        "# SFrame basics"
      ]
    },
    {
      "cell_type": "code",
      "metadata": {
        "id": "9oMmlaiCT5Bb",
        "colab_type": "code",
        "colab": {}
      },
      "source": [
        "sf #we can view first few lines of table"
      ],
      "execution_count": 0,
      "outputs": []
    },
    {
      "cell_type": "code",
      "metadata": {
        "id": "P9Sx82RLT5Bn",
        "colab_type": "code",
        "colab": {}
      },
      "source": [
        "sf.tail()  # view end of the table"
      ],
      "execution_count": 0,
      "outputs": []
    },
    {
      "cell_type": "markdown",
      "metadata": {
        "id": "ebilD7fyT5B0",
        "colab_type": "text"
      },
      "source": [
        "# Turi Create visualization"
      ]
    },
    {
      "cell_type": "code",
      "metadata": {
        "id": "YWctPiHcT5B2",
        "colab_type": "code",
        "colab": {}
      },
      "source": [
        "# .show() visualizes any data structure in Turi Create\n",
        "sf.show()"
      ],
      "execution_count": 0,
      "outputs": []
    },
    {
      "cell_type": "code",
      "metadata": {
        "id": "DWaZQa_WT5CD",
        "colab_type": "code",
        "colab": {}
      },
      "source": [
        "sf['age'].show()"
      ],
      "execution_count": 0,
      "outputs": []
    },
    {
      "cell_type": "markdown",
      "metadata": {
        "id": "YlPgbwcWT5CM",
        "colab_type": "text"
      },
      "source": [
        "# Inspect columns of dataset"
      ]
    },
    {
      "cell_type": "code",
      "metadata": {
        "id": "j8sLXPjNT5CP",
        "colab_type": "code",
        "colab": {}
      },
      "source": [
        "sf['Country']"
      ],
      "execution_count": 0,
      "outputs": []
    },
    {
      "cell_type": "code",
      "metadata": {
        "id": "I2GlwTYxT5CX",
        "colab_type": "code",
        "colab": {}
      },
      "source": [
        "sf['age']"
      ],
      "execution_count": 0,
      "outputs": []
    },
    {
      "cell_type": "markdown",
      "metadata": {
        "id": "fZQFoBtnT5Cg",
        "colab_type": "text"
      },
      "source": [
        "Some simple columnar operations"
      ]
    },
    {
      "cell_type": "code",
      "metadata": {
        "id": "zOVo_990T5Ch",
        "colab_type": "code",
        "colab": {}
      },
      "source": [
        "sf['age'].mean()"
      ],
      "execution_count": 0,
      "outputs": []
    },
    {
      "cell_type": "code",
      "metadata": {
        "id": "HjgBoqIgT5Cq",
        "colab_type": "code",
        "colab": {}
      },
      "source": [
        "sf['age'].max()"
      ],
      "execution_count": 0,
      "outputs": []
    },
    {
      "cell_type": "markdown",
      "metadata": {
        "id": "YVqBNTnyT5C0",
        "colab_type": "text"
      },
      "source": [
        "# Create new columns in our SFrame"
      ]
    },
    {
      "cell_type": "code",
      "metadata": {
        "id": "1zbDxcleT5C1",
        "colab_type": "code",
        "colab": {}
      },
      "source": [
        "sf"
      ],
      "execution_count": 0,
      "outputs": []
    },
    {
      "cell_type": "code",
      "metadata": {
        "id": "ttfw19P-T5DA",
        "colab_type": "code",
        "colab": {}
      },
      "source": [
        "sf['Full Name'] = sf['First Name'] + ' ' + sf['Last Name']"
      ],
      "execution_count": 0,
      "outputs": []
    },
    {
      "cell_type": "code",
      "metadata": {
        "id": "RLKP_XoIT5DK",
        "colab_type": "code",
        "colab": {}
      },
      "source": [
        "sf"
      ],
      "execution_count": 0,
      "outputs": []
    },
    {
      "cell_type": "code",
      "metadata": {
        "id": "vCb0sPznT5DR",
        "colab_type": "code",
        "colab": {}
      },
      "source": [
        "sf['age'] * sf['age']"
      ],
      "execution_count": 0,
      "outputs": []
    },
    {
      "cell_type": "markdown",
      "metadata": {
        "id": "bUnENBYCT5Dd",
        "colab_type": "text"
      },
      "source": [
        "# Use the apply function to do a advance transformation of our data"
      ]
    },
    {
      "cell_type": "code",
      "metadata": {
        "id": "-x-tATW8T5Df",
        "colab_type": "code",
        "colab": {}
      },
      "source": [
        "sf['Country']"
      ],
      "execution_count": 0,
      "outputs": []
    },
    {
      "cell_type": "code",
      "metadata": {
        "id": "8uqCc9A2T5Dn",
        "colab_type": "code",
        "colab": {}
      },
      "source": [
        "sf['Country'].show()"
      ],
      "execution_count": 0,
      "outputs": []
    },
    {
      "cell_type": "code",
      "metadata": {
        "id": "pYokpMLKT5Du",
        "colab_type": "code",
        "colab": {}
      },
      "source": [
        "def transform_country(country):\n",
        "    if country == 'USA':\n",
        "        return 'United States'\n",
        "    else:\n",
        "        return country"
      ],
      "execution_count": 0,
      "outputs": []
    },
    {
      "cell_type": "code",
      "metadata": {
        "id": "PuAd8TtiT5D4",
        "colab_type": "code",
        "colab": {}
      },
      "source": [
        "transform_country('Brazil')"
      ],
      "execution_count": 0,
      "outputs": []
    },
    {
      "cell_type": "code",
      "metadata": {
        "id": "DtGG601qT5D-",
        "colab_type": "code",
        "colab": {}
      },
      "source": [
        "transform_country('Brasil')"
      ],
      "execution_count": 0,
      "outputs": []
    },
    {
      "cell_type": "code",
      "metadata": {
        "id": "M1n-fQlgT5EG",
        "colab_type": "code",
        "colab": {}
      },
      "source": [
        "transform_country('USA')"
      ],
      "execution_count": 0,
      "outputs": []
    },
    {
      "cell_type": "code",
      "metadata": {
        "id": "L1fjKOFAT5EN",
        "colab_type": "code",
        "colab": {}
      },
      "source": [
        "sf['Country'].apply(transform_country)"
      ],
      "execution_count": 0,
      "outputs": []
    },
    {
      "cell_type": "code",
      "metadata": {
        "id": "1-zjqLEwT5EU",
        "colab_type": "code",
        "colab": {}
      },
      "source": [
        "sf['Country'] = sf['Country'].apply(transform_country)"
      ],
      "execution_count": 0,
      "outputs": []
    },
    {
      "cell_type": "code",
      "metadata": {
        "id": "2YmyevjcT5Eb",
        "colab_type": "code",
        "colab": {}
      },
      "source": [
        "sf"
      ],
      "execution_count": 0,
      "outputs": []
    },
    {
      "cell_type": "code",
      "metadata": {
        "id": "7E86rDT6T5Eg",
        "colab_type": "code",
        "colab": {}
      },
      "source": [
        ""
      ],
      "execution_count": 0,
      "outputs": []
    }
  ]
}