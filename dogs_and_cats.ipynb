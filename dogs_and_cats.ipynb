{
  "nbformat": 4,
  "nbformat_minor": 0,
  "metadata": {
    "colab": {
      "name": "dogs and cats.ipynb",
      "provenance": [],
      "collapsed_sections": [],
      "authorship_tag": "ABX9TyPx+m06qG1ZEcCPzjfGsRao",
      "include_colab_link": true
    },
    "kernelspec": {
      "name": "python3",
      "display_name": "Python 3"
    },
    "accelerator": "GPU"
  },
  "cells": [
    {
      "cell_type": "markdown",
      "metadata": {
        "id": "view-in-github",
        "colab_type": "text"
      },
      "source": [
        "<a href=\"https://colab.research.google.com/github/Karim-mansour/machine-learning/blob/master/dogs_and_cats.ipynb\" target=\"_parent\"><img src=\"https://colab.research.google.com/assets/colab-badge.svg\" alt=\"Open In Colab\"/></a>"
      ]
    },
    {
      "cell_type": "code",
      "metadata": {
        "id": "O4RHOQ7KT8mW",
        "colab_type": "code",
        "colab": {}
      },
      "source": [
        "import tensorflow as tf\n",
        "from tensorflow.keras.models import Sequential\n",
        "from tensorflow.keras.layers import Dense , Conv2D , Flatten , Dropout , MaxPooling2D\n",
        "from tensorflow.keras.preprocessing.image import ImageDataGenerator ,load_img,img_to_array\n",
        "import os \n",
        "from keras import backend as K\n",
        "from keras.layers import Activation, Dropout, Flatten, Dense\n",
        "import numpy as np\n",
        "import matplotlib as plt \n",
        "from matplotlib import pyplot as plt\n"
      ],
      "execution_count": 0,
      "outputs": []
    },
    {
      "cell_type": "code",
      "metadata": {
        "id": "A3wP64FmLtJe",
        "colab_type": "code",
        "colab": {}
      },
      "source": [
        "from tensorflow.keras.datasets import mnist\n",
        "from tensorflow.keras.models import Sequential\n",
        "from tensorflow.keras.layers import Dense, Dropout, Flatten\n",
        "from tensorflow.keras.layers import Conv2D, MaxPooling2D\n",
        "from tensorflow.keras import backend as K\n",
        "from tensorflow.keras.optimizers import Adam\n",
        "from matplotlib import pyplot as plt\n",
        "import numpy as np\n",
        "import random\n",
        "import cv2\n",
        "import os \n",
        "from keras.preprocessing import image\n",
        "from keras import backend as K\n",
        "from keras.preprocessing.image import img_to_array, load_img"
      ],
      "execution_count": 0,
      "outputs": []
    },
    {
      "cell_type": "markdown",
      "metadata": {
        "id": "2M2Yz3S1iBFr",
        "colab_type": "text"
      },
      "source": [
        "**we use this code to download a zip file then extract then open it **\n",
        " "
      ]
    },
    {
      "cell_type": "code",
      "metadata": {
        "id": "bRaxcdXUd0yR",
        "colab_type": "code",
        "colab": {}
      },
      "source": [
        "_URL='https://storage.googleapis.com/mledu-datasets/cats_and_dogs_filtered.zip'\n",
        "path_to_zip= tf.keras.utils.get_file('Cats_and_dogs.zip',_URL, extract=True)\n",
        "PATH=os.path.join(os.path.dirname(path_to_zip),'cats_and_dogs_filtered')"
      ],
      "execution_count": 0,
      "outputs": []
    },
    {
      "cell_type": "code",
      "metadata": {
        "id": "comOWxBof1kC",
        "colab_type": "code",
        "colab": {}
      },
      "source": [
        "train_dir=os.path.join(PATH,'train')\n",
        "validation_dir=os.path.join(PATH,'validation')"
      ],
      "execution_count": 0,
      "outputs": []
    },
    {
      "cell_type": "code",
      "metadata": {
        "id": "gQ1zoKGhhLm3",
        "colab_type": "code",
        "colab": {}
      },
      "source": [
        "train_cats_dir=os.path.join(train_dir,'cats')\n",
        "train_dogs_dir=os.path.join(train_dir,'dogs')\n",
        "validation_cats_dir=os.path.join(validation_dir,'cats')\n",
        "validation_dogs_dir=os.path.join(validation_dir,'dogs')"
      ],
      "execution_count": 0,
      "outputs": []
    },
    {
      "cell_type": "code",
      "metadata": {
        "id": "hqAAcNUfh-90",
        "colab_type": "code",
        "outputId": "159bcff7-ad69-4d33-cc93-9f4a0bc8b80e",
        "colab": {
          "base_uri": "https://localhost:8080/",
          "height": 127
        }
      },
      "source": [
        "num_cats_train= len (os.listdir(train_cats_dir))\n",
        "num_dogs_train= len (os.listdir(train_dogs_dir))\n",
        "num_cats_validation= len (os.listdir(validation_cats_dir))\n",
        "num_dogs_validation=len (os.listdir(validation_dogs_dir))\n",
        "total_train= num_cats_train+ num_dogs_train\n",
        "total_validation = num_cats_validation + num_dogs_validation\n",
        "print ('the number of train cats is ',num_cats_train)\n",
        "print ('the number of train dogs is ',num_dogs_train)\n",
        "print ('the number of validation cats is ', num_cats_validation)\n",
        "print ('the number of validation dogs is ',num_dogs_validation)\n",
        "print ('total train is ',total_train)\n",
        "print ('total validation is ',total_validation)"
      ],
      "execution_count": 0,
      "outputs": [
        {
          "output_type": "stream",
          "text": [
            "the number of train cats is  1000\n",
            "the number of train dogs is  1000\n",
            "the number of validation cats is  500\n",
            "the number of validation dogs is  500\n",
            "total train is  2000\n",
            "total validation is  1000\n"
          ],
          "name": "stdout"
        }
      ]
    },
    {
      "cell_type": "code",
      "metadata": {
        "id": "KybJS0Q2vbUE",
        "colab_type": "code",
        "outputId": "ce78eccc-2186-4ac7-d090-ad6ffe95cdf3",
        "colab": {
          "base_uri": "https://localhost:8080/",
          "height": 287
        }
      },
      "source": [
        "xs=9\n",
        "cat=load_img('/root/.keras/datasets/cats_and_dogs_filtered/train/cats/cat.%d.jpg'%xs)\n",
        "plt.imshow(cat)"
      ],
      "execution_count": 0,
      "outputs": [
        {
          "output_type": "execute_result",
          "data": {
            "text/plain": [
              "<matplotlib.image.AxesImage at 0x7f0bbf39c4e0>"
            ]
          },
          "metadata": {
            "tags": []
          },
          "execution_count": 10
        },
        {
          "output_type": "display_data",
          "data": {
            "image/png": "[encoded data removed]",
            "text/plain": [
              "<Figure size 432x288 with 1 Axes>"
            ]
          },
          "metadata": {
            "tags": [],
            "needs_background": "light"
          }
        }
      ]
    },
    {
      "cell_type": "code",
      "metadata": {
        "id": "zChFT1XJkbK7",
        "colab_type": "code",
        "colab": {}
      },
      "source": [
        "batch_size = 128\n",
        "epochs = 15\n",
        "IMG_HEIGHT = 150\n",
        "IMG_WIDTH = 150\n",
        "dropout=.5\n"
      ],
      "execution_count": 0,
      "outputs": []
    },
    {
      "cell_type": "code",
      "metadata": {
        "id": "1CTlvwt-JvYL",
        "colab_type": "code",
        "colab": {}
      },
      "source": [
        "if K.image_data_format() == 'channels_first':        #We usually use channel first approach\n",
        "    input_shape = (3, IMG_WIDTH, IMG_HEIGHT)\n",
        "else:\n",
        "    input_shape = (IMG_WIDTH, IMG_HEIGHT, 3)"
      ],
      "execution_count": 0,
      "outputs": []
    },
    {
      "cell_type": "markdown",
      "metadata": {
        "id": "hUedbzHskUid",
        "colab_type": "text"
      },
      "source": [
        "**lets prepare our data to be used**"
      ]
    },
    {
      "cell_type": "code",
      "metadata": {
        "id": "ZDn2jC-7kSn1",
        "colab_type": "code",
        "outputId": "ec5ae765-d213-4c26-8441-bd324abf8ece",
        "colab": {
          "base_uri": "https://localhost:8080/",
          "height": 72
        }
      },
      "source": [
        "train_image_generator=ImageDataGenerator(rescale=1./255)\n",
        "validation_image_generator=ImageDataGenerator(rescale=1./255)\n",
        "test_image=ImageDataGenerator(rescale=1./255)\n",
        "train_data_generator=train_image_generator.flow_from_directory(batch_size=batch_size ,directory=train_dir ,shuffle=True,target_size=(IMG_HEIGHT, IMG_WIDTH),classes=['cats','dogs'])\n",
        "validation_data_generator=validation_image_generator.flow_from_directory(batch_size=batch_size , directory=validation_dir , shuffle=True,target_size=(IMG_HEIGHT,IMG_WIDTH),classes=['cats','dogs'])\n",
        "test_data=test_image.flow_from_directory(batch_size=1, directory='/content/test_data_cat_dogs',shuffle=True , target_size=(IMG_HEIGHT,IMG_WIDTH) ,classes=['ok'])\n"
      ],
      "execution_count": 0,
      "outputs": [
        {
          "output_type": "stream",
          "text": [
            "Found 2000 images belonging to 2 classes.\n",
            "Found 1000 images belonging to 2 classes.\n",
            "Found 1 images belonging to 1 classes.\n"
          ],
          "name": "stdout"
        }
      ]
    },
    {
      "cell_type": "code",
      "metadata": {
        "id": "Cjc9pMRPuL9T",
        "colab_type": "code",
        "colab": {}
      },
      "source": [
        "x_train,y_train = next(train_data_generator)\n",
        "x_test,y_test = next(validation_data_generator)\n",
        "x_ok,y_ok = next(test_data)\n",
        "\n",
        "\n"
      ],
      "execution_count": 0,
      "outputs": []
    },
    {
      "cell_type": "code",
      "metadata": {
        "id": "xe1zZcwyu5_l",
        "colab_type": "code",
        "outputId": "aaf0afb6-2fe6-4558-afec-faac278524aa",
        "colab": {
          "base_uri": "https://localhost:8080/",
          "height": 458
        }
      },
      "source": [
        "model = Sequential()\n",
        "model.add(Conv2D(32, kernel_size=(3, 3), activation='relu', input_shape=input_shape))\n",
        "model.add(Conv2D(64, (3, 3), activation='relu'))\n",
        "model.add(MaxPooling2D(pool_size=(2, 2)))\n",
        "model.add(Dropout(dropout))\n",
        "model.add(Flatten())\n",
        "model.add(Dense(128, activation='relu'))\n",
        "model.add(Dropout(dropout))\n",
        "model.add(Dense(2, activation='softmax'))\n",
        "\n",
        "model.summary()"
      ],
      "execution_count": 0,
      "outputs": [
        {
          "output_type": "stream",
          "text": [
            "Model: \"sequential_1\"\n",
            "_________________________________________________________________\n",
            "Layer (type)                 Output Shape              Param #   \n",
            "=================================================================\n",
            "conv2d (Conv2D)              (None, 148, 148, 32)      896       \n",
            "_________________________________________________________________\n",
            "conv2d_1 (Conv2D)            (None, 146, 146, 64)      18496     \n",
            "_________________________________________________________________\n",
            "max_pooling2d (MaxPooling2D) (None, 73, 73, 64)        0         \n",
            "_________________________________________________________________\n",
            "dropout (Dropout)            (None, 73, 73, 64)        0         \n",
            "_________________________________________________________________\n",
            "flatten (Flatten)            (None, 341056)            0         \n",
            "_________________________________________________________________\n",
            "dense (Dense)                (None, 128)               43655296  \n",
            "_________________________________________________________________\n",
            "dropout_1 (Dropout)          (None, 128)               0         \n",
            "_________________________________________________________________\n",
            "dense_1 (Dense)              (None, 2)                 258       \n",
            "=================================================================\n",
            "Total params: 43,674,946\n",
            "Trainable params: 43,674,946\n",
            "Non-trainable params: 0\n",
            "_________________________________________________________________\n"
          ],
          "name": "stdout"
        }
      ]
    },
    {
      "cell_type": "code",
      "metadata": {
        "id": "kcN8i03yzy3O",
        "colab_type": "code",
        "colab": {}
      },
      "source": [
        "model.compile( Adam(lr=.0001),\n",
        "                  loss='categorical_crossentropy',\n",
        "                  metrics=['accuracy'])\n",
        "\n",
        "\n",
        "\n"
      ],
      "execution_count": 0,
      "outputs": []
    },
    {
      "cell_type": "code",
      "metadata": {
        "id": "4N9S1Xdj0xnL",
        "colab_type": "code",
        "outputId": "6e699b18-6bfb-451e-c529-2a2af79c40bd",
        "colab": {
          "base_uri": "https://localhost:8080/",
          "height": 458
        }
      },
      "source": [
        "model.summary()"
      ],
      "execution_count": 0,
      "outputs": [
        {
          "output_type": "stream",
          "text": [
            "Model: \"sequential_1\"\n",
            "_________________________________________________________________\n",
            "Layer (type)                 Output Shape              Param #   \n",
            "=================================================================\n",
            "conv2d (Conv2D)              (None, 148, 148, 32)      896       \n",
            "_________________________________________________________________\n",
            "conv2d_1 (Conv2D)            (None, 146, 146, 64)      18496     \n",
            "_________________________________________________________________\n",
            "max_pooling2d (MaxPooling2D) (None, 73, 73, 64)        0         \n",
            "_________________________________________________________________\n",
            "dropout (Dropout)            (None, 73, 73, 64)        0         \n",
            "_________________________________________________________________\n",
            "flatten (Flatten)            (None, 341056)            0         \n",
            "_________________________________________________________________\n",
            "dense (Dense)                (None, 128)               43655296  \n",
            "_________________________________________________________________\n",
            "dropout_1 (Dropout)          (None, 128)               0         \n",
            "_________________________________________________________________\n",
            "dense_1 (Dense)              (None, 2)                 258       \n",
            "=================================================================\n",
            "Total params: 43,674,946\n",
            "Trainable params: 43,674,946\n",
            "Non-trainable params: 0\n",
            "_________________________________________________________________\n"
          ],
          "name": "stdout"
        }
      ]
    },
    {
      "cell_type": "code",
      "metadata": {
        "id": "7OcaHqxt09mj",
        "colab_type": "code",
        "outputId": "a8f08d7c-2ce8-4be6-e7fc-4c7887569093",
        "colab": {
          "base_uri": "https://localhost:8080/",
          "height": 386
        }
      },
      "source": [
        "history=model.fit_generator(train_data_generator ,epochs=8 , steps_per_epoch=500 ,validation_steps=500   , validation_data=validation_data_generator)\n"
      ],
      "execution_count": 0,
      "outputs": [
        {
          "output_type": "stream",
          "text": [
            "WARNING:tensorflow:From <ipython-input-21-d010d626b556>:1: Model.fit_generator (from tensorflow.python.keras.engine.training) is deprecated and will be removed in a future version.\n",
            "Instructions for updating:\n",
            "Please use Model.fit, which supports generators.\n",
            "Epoch 1/8\n",
            "500/500 [==============================] - 450s 899ms/step - loss: 0.4706 - accuracy: 0.7771 - val_loss: 0.6042 - val_accuracy: 0.7062\n",
            "Epoch 2/8\n",
            "500/500 [==============================] - 445s 891ms/step - loss: 0.1183 - accuracy: 0.9725 - val_loss: 0.8466 - val_accuracy: 0.7040\n",
            "Epoch 3/8\n",
            "500/500 [==============================] - 444s 888ms/step - loss: 0.0379 - accuracy: 0.9941 - val_loss: 1.0998 - val_accuracy: 0.7118\n",
            "Epoch 4/8\n",
            "500/500 [==============================] - 438s 876ms/step - loss: 0.0204 - accuracy: 0.9960 - val_loss: 1.3526 - val_accuracy: 0.7121\n",
            "Epoch 5/8\n",
            "500/500 [==============================] - 441s 882ms/step - loss: 0.0146 - accuracy: 0.9966 - val_loss: 1.4814 - val_accuracy: 0.6961\n",
            "Epoch 6/8\n",
            "500/500 [==============================] - 439s 877ms/step - loss: 0.0116 - accuracy: 0.9969 - val_loss: 1.6247 - val_accuracy: 0.7060\n",
            "Epoch 7/8\n",
            "500/500 [==============================] - 439s 878ms/step - loss: 0.0102 - accuracy: 0.9974 - val_loss: 1.7975 - val_accuracy: 0.6962\n",
            "Epoch 8/8\n",
            "500/500 [==============================] - 441s 882ms/step - loss: 0.0085 - accuracy: 0.9977 - val_loss: 2.0272 - val_accuracy: 0.7031\n"
          ],
          "name": "stdout"
        }
      ]
    },
    {
      "cell_type": "code",
      "metadata": {
        "id": "MG_V991r9won",
        "colab_type": "code",
        "outputId": "ca2b5e22-5b3e-48de-95d0-c46dfb3eb01d",
        "colab": {
          "base_uri": "https://localhost:8080/",
          "height": 295
        }
      },
      "source": [
        "plt.plot(history.history['accuracy'])\n",
        "plt.plot(history.history['val_accuracy'])\n",
        "plt.title('Model accuracy')\n",
        "plt.ylabel('Accuracy')\n",
        "plt.xlabel('Epoch')\n",
        "plt.legend(['Train', 'Test'], loc='upper left')\n",
        "plt.show()"
      ],
      "execution_count": 0,
      "outputs": [
        {
          "output_type": "display_data",
          "data": {
            "image/png": "[encoded data removed]",
            "text/plain": [
              "<Figure size 432x288 with 1 Axes>"
            ]
          },
          "metadata": {
            "tags": [],
            "needs_background": "light"
          }
        }
      ]
    },
    {
      "cell_type": "code",
      "metadata": {
        "id": "kAPvzk7lJFZT",
        "colab_type": "code",
        "colab": {}
      },
      "source": [
        "predictions=predictions=model.predict_generator(test_data,steps=1,verbose=0)"
      ],
      "execution_count": 0,
      "outputs": []
    },
    {
      "cell_type": "code",
      "metadata": {
        "id": "yyekTIzBJq-X",
        "colab_type": "code",
        "outputId": "eb85c98b-9296-45c0-ca15-cf0e9c2a313b",
        "colab": {
          "base_uri": "https://localhost:8080/",
          "height": 35
        }
      },
      "source": [
        "most_likely = predictions.argmax(1)\n",
        "print(most_likely)"
      ],
      "execution_count": 0,
      "outputs": [
        {
          "output_type": "stream",
          "text": [
            "[1]\n"
          ],
          "name": "stdout"
        }
      ]
    },
    {
      "cell_type": "code",
      "metadata": {
        "id": "EtWFxCzENNGE",
        "colab_type": "code",
        "colab": {}
      },
      "source": [
        "model.save('/dog_and_cat.h5')"
      ],
      "execution_count": 0,
      "outputs": []
    },
    {
      "cell_type": "code",
      "metadata": {
        "id": "GTvAh2nON_KZ",
        "colab_type": "code",
        "colab": {}
      },
      "source": [
        "from keras.model import load_model\n",
        "new_model= load_model ('dogs_and_cat.h5')"
      ],
      "execution_count": 0,
      "outputs": []
    },
    {
      "cell_type": "code",
      "metadata": {
        "id": "JNT9J3mtOR6w",
        "colab_type": "code",
        "colab": {}
      },
      "source": [
        "new_model.summary()"
      ],
      "execution_count": 0,
      "outputs": []
    },
    {
      "cell_type": "code",
      "metadata": {
        "id": "3tsqpVsROWVm",
        "colab_type": "code",
        "colab": {}
      },
      "source": [
        "new_model.get_weights()"
      ],
      "execution_count": 0,
      "outputs": []
    },
    {
      "cell_type": "code",
      "metadata": {
        "id": "CX6SigCNObL5",
        "colab_type": "code",
        "colab": {}
      },
      "source": [
        "new_model.optimizer"
      ],
      "execution_count": 0,
      "outputs": []
    },
    {
      "cell_type": "markdown",
      "metadata": {
        "id": "40uZoa_GNzFZ",
        "colab_type": "text"
      },
      "source": [
        "/content/test_data_cat_dogs\n"
      ]
    }
  ]
}